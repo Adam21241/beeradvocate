{
 "cells": [
  {
   "cell_type": "markdown",
   "id": "c0783136",
   "metadata": {},
   "source": [
    "### This notebook contains solution of 2nd question"
   ]
  },
  {
   "cell_type": "code",
   "execution_count": 2,
   "id": "e645562f",
   "metadata": {},
   "outputs": [],
   "source": [
    "import pandas as pd\n",
    "import numpy as np\n",
    "import seaborn as sns\n",
    "import sys\n",
    "import matplotlib.pyplot as plt\n",
    "from time import sleep\n",
    "\n",
    "path = \"/Users/adam/Documents/schneider/beeradvocate\"\n",
    "\n",
    "if path not in sys.path:\n",
    "    sys.path.append(path)  # to enable import from modules\n",
    "\n",
    "from modules.functions import pearson\n",
    "from modules.functions import get_recs\n",
    "from modules.functions import is_float\n",
    "\n",
    "%matplotlib inline"
   ]
  },
  {
   "cell_type": "code",
   "execution_count": 3,
   "id": "d34458ef",
   "metadata": {},
   "outputs": [],
   "source": [
    "dataset = pd.read_csv(\"../beer_reviews.csv\")"
   ]
  },
  {
   "cell_type": "code",
   "execution_count": 4,
   "id": "aca30417",
   "metadata": {},
   "outputs": [],
   "source": [
    "dataset = dataset[[\"review_profilename\", \"beer_style\", \"review_overall\"]]"
   ]
  },
  {
   "cell_type": "code",
   "execution_count": 5,
   "id": "4e998bdc",
   "metadata": {},
   "outputs": [
    {
     "data": {
      "text/html": [
       "<div>\n",
       "<style scoped>\n",
       "    .dataframe tbody tr th:only-of-type {\n",
       "        vertical-align: middle;\n",
       "    }\n",
       "\n",
       "    .dataframe tbody tr th {\n",
       "        vertical-align: top;\n",
       "    }\n",
       "\n",
       "    .dataframe thead th {\n",
       "        text-align: right;\n",
       "    }\n",
       "</style>\n",
       "<table border=\"1\" class=\"dataframe\">\n",
       "  <thead>\n",
       "    <tr style=\"text-align: right;\">\n",
       "      <th></th>\n",
       "      <th>review_profilename</th>\n",
       "      <th>beer_style</th>\n",
       "      <th>review_overall</th>\n",
       "    </tr>\n",
       "  </thead>\n",
       "  <tbody>\n",
       "    <tr>\n",
       "      <th>0</th>\n",
       "      <td>stcules</td>\n",
       "      <td>Hefeweizen</td>\n",
       "      <td>1.5</td>\n",
       "    </tr>\n",
       "    <tr>\n",
       "      <th>1</th>\n",
       "      <td>stcules</td>\n",
       "      <td>English Strong Ale</td>\n",
       "      <td>3.0</td>\n",
       "    </tr>\n",
       "    <tr>\n",
       "      <th>2</th>\n",
       "      <td>stcules</td>\n",
       "      <td>Foreign / Export Stout</td>\n",
       "      <td>3.0</td>\n",
       "    </tr>\n",
       "    <tr>\n",
       "      <th>3</th>\n",
       "      <td>stcules</td>\n",
       "      <td>German Pilsener</td>\n",
       "      <td>3.0</td>\n",
       "    </tr>\n",
       "    <tr>\n",
       "      <th>4</th>\n",
       "      <td>johnmichaelsen</td>\n",
       "      <td>American Double / Imperial IPA</td>\n",
       "      <td>4.0</td>\n",
       "    </tr>\n",
       "  </tbody>\n",
       "</table>\n",
       "</div>"
      ],
      "text/plain": [
       "  review_profilename                      beer_style  review_overall\n",
       "0            stcules                      Hefeweizen             1.5\n",
       "1            stcules              English Strong Ale             3.0\n",
       "2            stcules          Foreign / Export Stout             3.0\n",
       "3            stcules                 German Pilsener             3.0\n",
       "4     johnmichaelsen  American Double / Imperial IPA             4.0"
      ]
     },
     "execution_count": 5,
     "metadata": {},
     "output_type": "execute_result"
    }
   ],
   "source": [
    "dataset.head()"
   ]
  },
  {
   "cell_type": "markdown",
   "id": "8c9b9588",
   "metadata": {},
   "source": [
    "Create sparse pivot table"
   ]
  },
  {
   "cell_type": "code",
   "execution_count": 6,
   "id": "d52a7eb0",
   "metadata": {},
   "outputs": [],
   "source": [
    "pivot_dataset = dataset.pivot_table(\n",
    "    index=[\"review_profilename\"], \n",
    "    columns=[\"beer_style\"], \n",
    "    values=\"review_overall\"\n",
    ").astype(pd.SparseDtype(\"float\", np.nan))"
   ]
  },
  {
   "cell_type": "code",
   "execution_count": 7,
   "id": "86ce322a",
   "metadata": {
    "scrolled": true
   },
   "outputs": [
    {
     "data": {
      "text/html": [
       "<div>\n",
       "<style scoped>\n",
       "    .dataframe tbody tr th:only-of-type {\n",
       "        vertical-align: middle;\n",
       "    }\n",
       "\n",
       "    .dataframe tbody tr th {\n",
       "        vertical-align: top;\n",
       "    }\n",
       "\n",
       "    .dataframe thead th {\n",
       "        text-align: right;\n",
       "    }\n",
       "</style>\n",
       "<table border=\"1\" class=\"dataframe\">\n",
       "  <thead>\n",
       "    <tr style=\"text-align: right;\">\n",
       "      <th>beer_style</th>\n",
       "      <th>Altbier</th>\n",
       "      <th>American Adjunct Lager</th>\n",
       "      <th>American Amber / Red Ale</th>\n",
       "      <th>American Amber / Red Lager</th>\n",
       "      <th>American Barleywine</th>\n",
       "      <th>American Black Ale</th>\n",
       "      <th>American Blonde Ale</th>\n",
       "      <th>American Brown Ale</th>\n",
       "      <th>American Dark Wheat Ale</th>\n",
       "      <th>American Double / Imperial IPA</th>\n",
       "      <th>...</th>\n",
       "      <th>Scotch Ale / Wee Heavy</th>\n",
       "      <th>Scottish Ale</th>\n",
       "      <th>Scottish Gruit / Ancient Herbed Ale</th>\n",
       "      <th>Smoked Beer</th>\n",
       "      <th>Tripel</th>\n",
       "      <th>Vienna Lager</th>\n",
       "      <th>Weizenbock</th>\n",
       "      <th>Wheatwine</th>\n",
       "      <th>Winter Warmer</th>\n",
       "      <th>Witbier</th>\n",
       "    </tr>\n",
       "    <tr>\n",
       "      <th>review_profilename</th>\n",
       "      <th></th>\n",
       "      <th></th>\n",
       "      <th></th>\n",
       "      <th></th>\n",
       "      <th></th>\n",
       "      <th></th>\n",
       "      <th></th>\n",
       "      <th></th>\n",
       "      <th></th>\n",
       "      <th></th>\n",
       "      <th></th>\n",
       "      <th></th>\n",
       "      <th></th>\n",
       "      <th></th>\n",
       "      <th></th>\n",
       "      <th></th>\n",
       "      <th></th>\n",
       "      <th></th>\n",
       "      <th></th>\n",
       "      <th></th>\n",
       "      <th></th>\n",
       "    </tr>\n",
       "  </thead>\n",
       "  <tbody>\n",
       "    <tr>\n",
       "      <th>0110x011</th>\n",
       "      <td>NaN</td>\n",
       "      <td>NaN</td>\n",
       "      <td>4.0</td>\n",
       "      <td>NaN</td>\n",
       "      <td>3.25</td>\n",
       "      <td>5.0</td>\n",
       "      <td>4.5</td>\n",
       "      <td>4.5</td>\n",
       "      <td>NaN</td>\n",
       "      <td>4.3125</td>\n",
       "      <td>...</td>\n",
       "      <td>NaN</td>\n",
       "      <td>NaN</td>\n",
       "      <td>NaN</td>\n",
       "      <td>NaN</td>\n",
       "      <td>4.0</td>\n",
       "      <td>NaN</td>\n",
       "      <td>NaN</td>\n",
       "      <td>NaN</td>\n",
       "      <td>NaN</td>\n",
       "      <td>4.333333</td>\n",
       "    </tr>\n",
       "    <tr>\n",
       "      <th>01Ryan10</th>\n",
       "      <td>NaN</td>\n",
       "      <td>NaN</td>\n",
       "      <td>NaN</td>\n",
       "      <td>NaN</td>\n",
       "      <td>NaN</td>\n",
       "      <td>NaN</td>\n",
       "      <td>NaN</td>\n",
       "      <td>NaN</td>\n",
       "      <td>NaN</td>\n",
       "      <td>NaN</td>\n",
       "      <td>...</td>\n",
       "      <td>NaN</td>\n",
       "      <td>NaN</td>\n",
       "      <td>NaN</td>\n",
       "      <td>NaN</td>\n",
       "      <td>NaN</td>\n",
       "      <td>NaN</td>\n",
       "      <td>NaN</td>\n",
       "      <td>NaN</td>\n",
       "      <td>NaN</td>\n",
       "      <td>NaN</td>\n",
       "    </tr>\n",
       "    <tr>\n",
       "      <th>02maxima</th>\n",
       "      <td>NaN</td>\n",
       "      <td>NaN</td>\n",
       "      <td>NaN</td>\n",
       "      <td>NaN</td>\n",
       "      <td>NaN</td>\n",
       "      <td>NaN</td>\n",
       "      <td>NaN</td>\n",
       "      <td>NaN</td>\n",
       "      <td>NaN</td>\n",
       "      <td>4.5000</td>\n",
       "      <td>...</td>\n",
       "      <td>NaN</td>\n",
       "      <td>NaN</td>\n",
       "      <td>NaN</td>\n",
       "      <td>NaN</td>\n",
       "      <td>NaN</td>\n",
       "      <td>NaN</td>\n",
       "      <td>NaN</td>\n",
       "      <td>NaN</td>\n",
       "      <td>NaN</td>\n",
       "      <td>NaN</td>\n",
       "    </tr>\n",
       "    <tr>\n",
       "      <th>03SVTCobra</th>\n",
       "      <td>NaN</td>\n",
       "      <td>NaN</td>\n",
       "      <td>NaN</td>\n",
       "      <td>NaN</td>\n",
       "      <td>NaN</td>\n",
       "      <td>NaN</td>\n",
       "      <td>NaN</td>\n",
       "      <td>NaN</td>\n",
       "      <td>NaN</td>\n",
       "      <td>NaN</td>\n",
       "      <td>...</td>\n",
       "      <td>NaN</td>\n",
       "      <td>NaN</td>\n",
       "      <td>NaN</td>\n",
       "      <td>NaN</td>\n",
       "      <td>NaN</td>\n",
       "      <td>NaN</td>\n",
       "      <td>NaN</td>\n",
       "      <td>NaN</td>\n",
       "      <td>NaN</td>\n",
       "      <td>NaN</td>\n",
       "    </tr>\n",
       "    <tr>\n",
       "      <th>04101Brewer</th>\n",
       "      <td>NaN</td>\n",
       "      <td>NaN</td>\n",
       "      <td>NaN</td>\n",
       "      <td>NaN</td>\n",
       "      <td>NaN</td>\n",
       "      <td>NaN</td>\n",
       "      <td>NaN</td>\n",
       "      <td>NaN</td>\n",
       "      <td>NaN</td>\n",
       "      <td>NaN</td>\n",
       "      <td>...</td>\n",
       "      <td>NaN</td>\n",
       "      <td>NaN</td>\n",
       "      <td>NaN</td>\n",
       "      <td>NaN</td>\n",
       "      <td>NaN</td>\n",
       "      <td>NaN</td>\n",
       "      <td>NaN</td>\n",
       "      <td>NaN</td>\n",
       "      <td>NaN</td>\n",
       "      <td>NaN</td>\n",
       "    </tr>\n",
       "  </tbody>\n",
       "</table>\n",
       "<p>5 rows × 104 columns</p>\n",
       "</div>"
      ],
      "text/plain": [
       "beer_style          Altbier  American Adjunct Lager  American Amber / Red Ale  \\\n",
       "review_profilename                                                              \n",
       "0110x011                NaN                     NaN                       4.0   \n",
       "01Ryan10                NaN                     NaN                       NaN   \n",
       "02maxima                NaN                     NaN                       NaN   \n",
       "03SVTCobra              NaN                     NaN                       NaN   \n",
       "04101Brewer             NaN                     NaN                       NaN   \n",
       "\n",
       "beer_style          American Amber / Red Lager  American Barleywine  \\\n",
       "review_profilename                                                    \n",
       "0110x011                                   NaN                 3.25   \n",
       "01Ryan10                                   NaN                  NaN   \n",
       "02maxima                                   NaN                  NaN   \n",
       "03SVTCobra                                 NaN                  NaN   \n",
       "04101Brewer                                NaN                  NaN   \n",
       "\n",
       "beer_style          American Black Ale  American Blonde Ale  \\\n",
       "review_profilename                                            \n",
       "0110x011                           5.0                  4.5   \n",
       "01Ryan10                           NaN                  NaN   \n",
       "02maxima                           NaN                  NaN   \n",
       "03SVTCobra                         NaN                  NaN   \n",
       "04101Brewer                        NaN                  NaN   \n",
       "\n",
       "beer_style          American Brown Ale  American Dark Wheat Ale  \\\n",
       "review_profilename                                                \n",
       "0110x011                           4.5                      NaN   \n",
       "01Ryan10                           NaN                      NaN   \n",
       "02maxima                           NaN                      NaN   \n",
       "03SVTCobra                         NaN                      NaN   \n",
       "04101Brewer                        NaN                      NaN   \n",
       "\n",
       "beer_style          American Double / Imperial IPA  ...  \\\n",
       "review_profilename                                  ...   \n",
       "0110x011                                    4.3125  ...   \n",
       "01Ryan10                                       NaN  ...   \n",
       "02maxima                                    4.5000  ...   \n",
       "03SVTCobra                                     NaN  ...   \n",
       "04101Brewer                                    NaN  ...   \n",
       "\n",
       "beer_style          Scotch Ale / Wee Heavy  Scottish Ale  \\\n",
       "review_profilename                                         \n",
       "0110x011                               NaN           NaN   \n",
       "01Ryan10                               NaN           NaN   \n",
       "02maxima                               NaN           NaN   \n",
       "03SVTCobra                             NaN           NaN   \n",
       "04101Brewer                            NaN           NaN   \n",
       "\n",
       "beer_style          Scottish Gruit / Ancient Herbed Ale  Smoked Beer  Tripel  \\\n",
       "review_profilename                                                             \n",
       "0110x011                                            NaN          NaN     4.0   \n",
       "01Ryan10                                            NaN          NaN     NaN   \n",
       "02maxima                                            NaN          NaN     NaN   \n",
       "03SVTCobra                                          NaN          NaN     NaN   \n",
       "04101Brewer                                         NaN          NaN     NaN   \n",
       "\n",
       "beer_style          Vienna Lager  Weizenbock  Wheatwine  Winter Warmer  \\\n",
       "review_profilename                                                       \n",
       "0110x011                     NaN         NaN        NaN            NaN   \n",
       "01Ryan10                     NaN         NaN        NaN            NaN   \n",
       "02maxima                     NaN         NaN        NaN            NaN   \n",
       "03SVTCobra                   NaN         NaN        NaN            NaN   \n",
       "04101Brewer                  NaN         NaN        NaN            NaN   \n",
       "\n",
       "beer_style           Witbier  \n",
       "review_profilename            \n",
       "0110x011            4.333333  \n",
       "01Ryan10                 NaN  \n",
       "02maxima                 NaN  \n",
       "03SVTCobra               NaN  \n",
       "04101Brewer              NaN  \n",
       "\n",
       "[5 rows x 104 columns]"
      ]
     },
     "execution_count": 7,
     "metadata": {},
     "output_type": "execute_result"
    }
   ],
   "source": [
    "pivot_dataset.head()"
   ]
  },
  {
   "cell_type": "code",
   "execution_count": 8,
   "id": "4aa7a9ad",
   "metadata": {},
   "outputs": [
    {
     "name": "stdout",
     "output_type": "stream",
     "text": [
      "0.11591942741417088\n",
      "7036397\n"
     ]
    }
   ],
   "source": [
    "print(pivot_dataset.sparse.density)\n",
    "print(sys.getsizeof(pivot_dataset))"
   ]
  },
  {
   "cell_type": "markdown",
   "id": "9d85e212",
   "metadata": {},
   "source": [
    "FInd out if some beers have a flat distribution (if yes, drop them before performing Pearson)"
   ]
  },
  {
   "cell_type": "code",
   "execution_count": 9,
   "id": "a00202b0",
   "metadata": {},
   "outputs": [
    {
     "name": "stdout",
     "output_type": "stream",
     "text": [
      "0\n"
     ]
    }
   ],
   "source": [
    "counter = 0\n",
    "\n",
    "for col in pivot_dataset.columns:\n",
    "    if (pivot_dataset[col] - pivot_dataset[col].mean()).sum() == 0:\n",
    "        counter += 1\n",
    "        \n",
    "print(counter)"
   ]
  },
  {
   "cell_type": "markdown",
   "id": "45388295",
   "metadata": {},
   "source": [
    "Find pairs with highest correlation"
   ]
  },
  {
   "cell_type": "code",
   "execution_count": 34,
   "id": "e8ca1c60",
   "metadata": {},
   "outputs": [],
   "source": [
    "tmp = pd.DataFrame(pivot_dataset.corr(method='pearson').abs())\n",
    "tmp.index.names = [\"index\"]  # to differentiate between the same column names\n",
    "tmp = pd.DataFrame(tmp.unstack().sort_values(ascending=False)).reset_index(). \\\n",
    "    rename(columns={0: \"abs correlation\"})\n",
    "tmp = tmp[tmp[\"beer_style\"] != tmp[\"index\"]]"
   ]
  },
  {
   "cell_type": "code",
   "execution_count": 35,
   "id": "610a04a4",
   "metadata": {
    "scrolled": true
   },
   "outputs": [
    {
     "data": {
      "text/html": [
       "<div>\n",
       "<style scoped>\n",
       "    .dataframe tbody tr th:only-of-type {\n",
       "        vertical-align: middle;\n",
       "    }\n",
       "\n",
       "    .dataframe tbody tr th {\n",
       "        vertical-align: top;\n",
       "    }\n",
       "\n",
       "    .dataframe thead th {\n",
       "        text-align: right;\n",
       "    }\n",
       "</style>\n",
       "<table border=\"1\" class=\"dataframe\">\n",
       "  <thead>\n",
       "    <tr style=\"text-align: right;\">\n",
       "      <th></th>\n",
       "      <th>beer_style</th>\n",
       "      <th>index</th>\n",
       "      <th>abs correlation</th>\n",
       "    </tr>\n",
       "  </thead>\n",
       "  <tbody>\n",
       "    <tr>\n",
       "      <th>104</th>\n",
       "      <td>Japanese Rice Lager</td>\n",
       "      <td>American Adjunct Lager</td>\n",
       "      <td>0.396985</td>\n",
       "    </tr>\n",
       "    <tr>\n",
       "      <th>105</th>\n",
       "      <td>American Adjunct Lager</td>\n",
       "      <td>Japanese Rice Lager</td>\n",
       "      <td>0.396985</td>\n",
       "    </tr>\n",
       "    <tr>\n",
       "      <th>106</th>\n",
       "      <td>Happoshu</td>\n",
       "      <td>Euro Pale Lager</td>\n",
       "      <td>0.389984</td>\n",
       "    </tr>\n",
       "    <tr>\n",
       "      <th>107</th>\n",
       "      <td>Euro Pale Lager</td>\n",
       "      <td>Happoshu</td>\n",
       "      <td>0.389984</td>\n",
       "    </tr>\n",
       "    <tr>\n",
       "      <th>108</th>\n",
       "      <td>Japanese Rice Lager</td>\n",
       "      <td>Euro Pale Lager</td>\n",
       "      <td>0.368928</td>\n",
       "    </tr>\n",
       "    <tr>\n",
       "      <th>109</th>\n",
       "      <td>Euro Pale Lager</td>\n",
       "      <td>Japanese Rice Lager</td>\n",
       "      <td>0.368928</td>\n",
       "    </tr>\n",
       "    <tr>\n",
       "      <th>110</th>\n",
       "      <td>Low Alcohol Beer</td>\n",
       "      <td>American Adjunct Lager</td>\n",
       "      <td>0.367644</td>\n",
       "    </tr>\n",
       "    <tr>\n",
       "      <th>111</th>\n",
       "      <td>American Adjunct Lager</td>\n",
       "      <td>Low Alcohol Beer</td>\n",
       "      <td>0.367644</td>\n",
       "    </tr>\n",
       "    <tr>\n",
       "      <th>112</th>\n",
       "      <td>Light Lager</td>\n",
       "      <td>American Adjunct Lager</td>\n",
       "      <td>0.359915</td>\n",
       "    </tr>\n",
       "    <tr>\n",
       "      <th>113</th>\n",
       "      <td>American Adjunct Lager</td>\n",
       "      <td>Light Lager</td>\n",
       "      <td>0.359915</td>\n",
       "    </tr>\n",
       "  </tbody>\n",
       "</table>\n",
       "</div>"
      ],
      "text/plain": [
       "                 beer_style                   index  abs correlation\n",
       "104     Japanese Rice Lager  American Adjunct Lager         0.396985\n",
       "105  American Adjunct Lager     Japanese Rice Lager         0.396985\n",
       "106                Happoshu         Euro Pale Lager         0.389984\n",
       "107         Euro Pale Lager                Happoshu         0.389984\n",
       "108     Japanese Rice Lager         Euro Pale Lager         0.368928\n",
       "109         Euro Pale Lager     Japanese Rice Lager         0.368928\n",
       "110        Low Alcohol Beer  American Adjunct Lager         0.367644\n",
       "111  American Adjunct Lager        Low Alcohol Beer         0.367644\n",
       "112             Light Lager  American Adjunct Lager         0.359915\n",
       "113  American Adjunct Lager             Light Lager         0.359915"
      ]
     },
     "execution_count": 35,
     "metadata": {},
     "output_type": "execute_result"
    }
   ],
   "source": [
    "tmp.head(10)  # how to get rid of \"duplicated\" rows?"
   ]
  },
  {
   "cell_type": "markdown",
   "id": "1a96e960",
   "metadata": {},
   "source": [
    "Plot correlation heatmap"
   ]
  },
  {
   "cell_type": "code",
   "execution_count": 12,
   "id": "124a168a",
   "metadata": {
    "scrolled": false
   },
   "outputs": [
    {
     "data": {
      "text/plain": [
       "<function matplotlib.pyplot.show(close=None, block=None)>"
      ]
     },
     "execution_count": 12,
     "metadata": {},
     "output_type": "execute_result"
    },
    {
     "data": {
      "image/png": "[encoded data removed]",
      "text/plain": [
       "<Figure size 1080x1080 with 2 Axes>"
      ]
     },
     "metadata": {
      "needs_background": "light"
     },
     "output_type": "display_data"
    }
   ],
   "source": [
    "fig, ax = plt.subplots(figsize=(15, 15))\n",
    "ax = sns.heatmap(pivot_dataset.corr(method='pearson'), xticklabels=False, yticklabels=True)\n",
    "ax.set_yticklabels(ax.get_ymajorticklabels(), fontsize=8)\n",
    "plt.xlabel('')\n",
    "plt.ylabel('')\n",
    "plt.show"
   ]
  },
  {
   "cell_type": "markdown",
   "id": "feb66670",
   "metadata": {},
   "source": [
    "# 2nd question"
   ]
  },
  {
   "cell_type": "markdown",
   "id": "e4b6aa8d",
   "metadata": {},
   "source": [
    "Approach for top 3 beers recommendation:\n",
    "\n",
    "1. Select all reviews (overall) for given user\n",
    "1. Group them by beer style (proposal - mean aggregation)\n",
    "1. Select top rated beers by this user (more than one beer can occur, i.e. NyackNicky user)\n",
    "1. Use get_recs() to find 3 most correlated beers with every top rated beer for the user\n",
    "1. Convert results into pd.DataFrame\n",
    "1. Group correlations by beer (proposal - mean aggregation)\n",
    "1. Sort DataFrame by correlation descending\n",
    "1. Drop duplicates (keep first, which is most correlated)\n",
    "1. Select top 3 beers from above DataFrame"
   ]
  },
  {
   "cell_type": "markdown",
   "id": "8895fd8d",
   "metadata": {},
   "source": [
    "### Version 1: select existing user in dataset"
   ]
  },
  {
   "cell_type": "code",
   "execution_count": 22,
   "id": "a6cdd2fa",
   "metadata": {
    "scrolled": true
   },
   "outputs": [
    {
     "name": "stdout",
     "output_type": "stream",
     "text": [
      "Enter user name (type -1 to terminate):\n",
      "NyackNicky\n",
      "\n",
      "Top 3 recommended beers for user NyackNicky are (descending order):\n",
      "1. German Pilsener\n",
      "2. Vienna Lager\n",
      "3. Dortmunder / Export Lager\n",
      "\n",
      "Enter user name (type -1 to terminate):\n",
      "-1\n",
      "\n",
      "Thank you for using program. Bye!\n"
     ]
    }
   ],
   "source": [
    "while True:\n",
    "    try:\n",
    "        print(\"Enter user name (type -1 to terminate):\")  # example: NyackNicky\n",
    "        sleep(1)  # without that prompt appears below textfield \n",
    "        profile = input()\n",
    "        print(\"\")\n",
    "        \n",
    "        if profile == \"-1\":\n",
    "            print(\"Thank you for using program. Bye!\")\n",
    "            break\n",
    "\n",
    "        tmp = dataset[dataset[\"review_profilename\"] == profile]\n",
    "        tmp = tmp.groupby([\"beer_style\"])[\"review_overall\"].mean().reset_index()\n",
    "        tmp = tmp[tmp[\"review_overall\"] == tmp[\"review_overall\"].max()]\n",
    "\n",
    "        rec_list = []\n",
    "\n",
    "        for beer in tmp[\"beer_style\"].unique():\n",
    "            rec_list.extend(get_recs(beer, pivot_dataset, num=3))\n",
    "\n",
    "        top3 = pd.DataFrame(rec_list).groupby(0).mean().reset_index().sort_values(by=1, ascending=False). \\\n",
    "            reset_index(drop=True).drop_duplicates(subset=0).reset_index(drop=True).loc[:2, 0]\n",
    "\n",
    "        print(f\"Top 3 recommended beers for user {profile} are (descending order):\")\n",
    "\n",
    "        for i, item in enumerate(top3):\n",
    "            print(f\"{i+1}. {item}\")\n",
    "        print(\"\")\n",
    "\n",
    "    except KeyError:\n",
    "        print(f\"User {profile} not in database. Try again!\")\n",
    "        print(\"\")"
   ]
  },
  {
   "cell_type": "markdown",
   "id": "cb0754f6",
   "metadata": {},
   "source": [
    "### Version 2: enter beer you like the most"
   ]
  },
  {
   "cell_type": "code",
   "execution_count": 33,
   "id": "00c83dcc",
   "metadata": {},
   "outputs": [
    {
     "name": "stdout",
     "output_type": "stream",
     "text": [
      "Enter beer you like the most (type -1 to terminate):\n",
      "Vienna Lager\n",
      "\n",
      "Top 3 recommended beers for you are (descending order):\n",
      "1. Märzen / Oktoberfest\n",
      "2. Dortmunder / Export Lager\n",
      "3. Munich Helles Lager\n",
      "\n",
      "Enter beer you like the most (type -1 to terminate):\n",
      "-1\n",
      "\n",
      "Thank you for using program. Bye!\n"
     ]
    }
   ],
   "source": [
    "while True:\n",
    "    print(\"Enter beer you like the most (type -1 to terminate):\")\n",
    "    sleep(1)  # without that prompt apperas below textfield \n",
    "    beer = input()\n",
    "    print(\"\")\n",
    "    \n",
    "    if beer == \"-1\":\n",
    "        print(\"Thank you for using program. Bye!\")\n",
    "        break\n",
    "\n",
    "    if beer not in pivot_dataset.columns:\n",
    "        print(f\"Beer {beer} not in database. Try again!\")\n",
    "        print(\"\")\n",
    "        continue\n",
    "\n",
    "    rec_list = get_recs(beer, pivot_dataset, num=3)\n",
    "\n",
    "    top3 = pd.DataFrame(rec_list).sort_values(by=1, ascending=False).reset_index(drop=True).loc[:2, 0]\n",
    "\n",
    "    print(\"Top 3 recommended beers for you are (descending order):\")\n",
    "\n",
    "    for i, item in enumerate(top3):\n",
    "        print(f\"{i+1}. {item}\")\n",
    "    print(\"\")"
   ]
  },
  {
   "cell_type": "markdown",
   "id": "227b6679",
   "metadata": {},
   "source": [
    "### Possible improvements"
   ]
  },
  {
   "cell_type": "markdown",
   "id": "8bfe7563",
   "metadata": {},
   "source": [
    "1. Consider using beer name with beer id instead of beer style\n",
    "1. Let user add more beers and reviews (version 2)\n",
    "1. If user gave no mean review above i.e. 4.0 for best rated beer by him, consider not recommending any beer\n",
    "1. If correlations with best rated beer by user are too low (i.e. below 0.25), do not recommend any beer\n",
    "1. Try to predict basing also on other features of review (not only overall)"
   ]
  },
  {
   "cell_type": "code",
   "execution_count": null,
   "id": "b10c8383",
   "metadata": {},
   "outputs": [],
   "source": [
    "# may be useful in the future...\n",
    "\n",
    "#     print(\"Enter your review for selected beer (from 0 to 5):\")\n",
    "#     sleep(1)  # without that prompt apperas below textfield \n",
    "#     review = input()\n",
    "#     print(\"\")\n",
    "        \n",
    "#     if not is_float(review) or (is_float(review) and not (0 <= float(review) <= 5)):\n",
    "#         print(f\"Number not in range (0, 5). Try again!\")\n",
    "#         print(\"\")\n",
    "#         continue"
   ]
  },
  {
   "cell_type": "code",
   "execution_count": null,
   "id": "b9835a3f",
   "metadata": {},
   "outputs": [],
   "source": []
  }
 ],
 "metadata": {
  "kernelspec": {
   "display_name": "Python 3",
   "language": "python",
   "name": "python3"
  },
  "language_info": {
   "codemirror_mode": {
    "name": "ipython",
    "version": 3
   },
   "file_extension": ".py",
   "mimetype": "text/x-python",
   "name": "python",
   "nbconvert_exporter": "python",
   "pygments_lexer": "ipython3",
   "version": "3.9.2"
  }
 },
 "nbformat": 4,
 "nbformat_minor": 5
}
