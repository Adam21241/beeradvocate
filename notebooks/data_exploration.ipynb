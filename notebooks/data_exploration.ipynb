{
 "cells": [
  {
   "cell_type": "code",
   "execution_count": 42,
   "metadata": {},
   "outputs": [],
   "source": [
    "import numpy as np\n",
    "import pandas as pd\n",
    "import re\n",
    "import matplotlib.pyplot as plt\n",
    "\n",
    "from datetime import datetime\n",
    "from tabulate import tabulate\n",
    "\n",
    "%matplotlib inline"
   ]
  },
  {
   "cell_type": "code",
   "execution_count": 43,
   "metadata": {},
   "outputs": [],
   "source": [
    "dataset = pd.read_csv(\"../beer_reviews.csv\")"
   ]
  },
  {
   "cell_type": "markdown",
   "metadata": {},
   "source": [
    "### Basic analysis"
   ]
  },
  {
   "cell_type": "markdown",
   "metadata": {},
   "source": [
    "Explanation\n",
    "\n",
    "1. beer_abv - alcohol by volume\n",
    "2. palate - sth similar to taste but idk what is the difference"
   ]
  },
  {
   "cell_type": "code",
   "execution_count": 44,
   "metadata": {
    "scrolled": true
   },
   "outputs": [
    {
     "data": {
      "text/html": [
       "<div>\n",
       "<style scoped>\n",
       "    .dataframe tbody tr th:only-of-type {\n",
       "        vertical-align: middle;\n",
       "    }\n",
       "\n",
       "    .dataframe tbody tr th {\n",
       "        vertical-align: top;\n",
       "    }\n",
       "\n",
       "    .dataframe thead th {\n",
       "        text-align: right;\n",
       "    }\n",
       "</style>\n",
       "<table border=\"1\" class=\"dataframe\">\n",
       "  <thead>\n",
       "    <tr style=\"text-align: right;\">\n",
       "      <th></th>\n",
       "      <th>brewery_id</th>\n",
       "      <th>brewery_name</th>\n",
       "      <th>review_time</th>\n",
       "      <th>review_overall</th>\n",
       "      <th>review_aroma</th>\n",
       "      <th>review_appearance</th>\n",
       "      <th>review_profilename</th>\n",
       "      <th>beer_style</th>\n",
       "      <th>review_palate</th>\n",
       "      <th>review_taste</th>\n",
       "      <th>beer_name</th>\n",
       "      <th>beer_abv</th>\n",
       "      <th>beer_beerid</th>\n",
       "    </tr>\n",
       "  </thead>\n",
       "  <tbody>\n",
       "    <tr>\n",
       "      <th>0</th>\n",
       "      <td>10325</td>\n",
       "      <td>Vecchio Birraio</td>\n",
       "      <td>1234817823</td>\n",
       "      <td>1.5</td>\n",
       "      <td>2.0</td>\n",
       "      <td>2.5</td>\n",
       "      <td>stcules</td>\n",
       "      <td>Hefeweizen</td>\n",
       "      <td>1.5</td>\n",
       "      <td>1.5</td>\n",
       "      <td>Sausa Weizen</td>\n",
       "      <td>5.0</td>\n",
       "      <td>47986</td>\n",
       "    </tr>\n",
       "    <tr>\n",
       "      <th>1</th>\n",
       "      <td>10325</td>\n",
       "      <td>Vecchio Birraio</td>\n",
       "      <td>1235915097</td>\n",
       "      <td>3.0</td>\n",
       "      <td>2.5</td>\n",
       "      <td>3.0</td>\n",
       "      <td>stcules</td>\n",
       "      <td>English Strong Ale</td>\n",
       "      <td>3.0</td>\n",
       "      <td>3.0</td>\n",
       "      <td>Red Moon</td>\n",
       "      <td>6.2</td>\n",
       "      <td>48213</td>\n",
       "    </tr>\n",
       "    <tr>\n",
       "      <th>2</th>\n",
       "      <td>10325</td>\n",
       "      <td>Vecchio Birraio</td>\n",
       "      <td>1235916604</td>\n",
       "      <td>3.0</td>\n",
       "      <td>2.5</td>\n",
       "      <td>3.0</td>\n",
       "      <td>stcules</td>\n",
       "      <td>Foreign / Export Stout</td>\n",
       "      <td>3.0</td>\n",
       "      <td>3.0</td>\n",
       "      <td>Black Horse Black Beer</td>\n",
       "      <td>6.5</td>\n",
       "      <td>48215</td>\n",
       "    </tr>\n",
       "    <tr>\n",
       "      <th>3</th>\n",
       "      <td>10325</td>\n",
       "      <td>Vecchio Birraio</td>\n",
       "      <td>1234725145</td>\n",
       "      <td>3.0</td>\n",
       "      <td>3.0</td>\n",
       "      <td>3.5</td>\n",
       "      <td>stcules</td>\n",
       "      <td>German Pilsener</td>\n",
       "      <td>2.5</td>\n",
       "      <td>3.0</td>\n",
       "      <td>Sausa Pils</td>\n",
       "      <td>5.0</td>\n",
       "      <td>47969</td>\n",
       "    </tr>\n",
       "    <tr>\n",
       "      <th>4</th>\n",
       "      <td>1075</td>\n",
       "      <td>Caldera Brewing Company</td>\n",
       "      <td>1293735206</td>\n",
       "      <td>4.0</td>\n",
       "      <td>4.5</td>\n",
       "      <td>4.0</td>\n",
       "      <td>johnmichaelsen</td>\n",
       "      <td>American Double / Imperial IPA</td>\n",
       "      <td>4.0</td>\n",
       "      <td>4.5</td>\n",
       "      <td>Cauldron DIPA</td>\n",
       "      <td>7.7</td>\n",
       "      <td>64883</td>\n",
       "    </tr>\n",
       "  </tbody>\n",
       "</table>\n",
       "</div>"
      ],
      "text/plain": [
       "   brewery_id             brewery_name  review_time  review_overall  \\\n",
       "0       10325          Vecchio Birraio   1234817823             1.5   \n",
       "1       10325          Vecchio Birraio   1235915097             3.0   \n",
       "2       10325          Vecchio Birraio   1235916604             3.0   \n",
       "3       10325          Vecchio Birraio   1234725145             3.0   \n",
       "4        1075  Caldera Brewing Company   1293735206             4.0   \n",
       "\n",
       "   review_aroma  review_appearance review_profilename  \\\n",
       "0           2.0                2.5            stcules   \n",
       "1           2.5                3.0            stcules   \n",
       "2           2.5                3.0            stcules   \n",
       "3           3.0                3.5            stcules   \n",
       "4           4.5                4.0     johnmichaelsen   \n",
       "\n",
       "                       beer_style  review_palate  review_taste  \\\n",
       "0                      Hefeweizen            1.5           1.5   \n",
       "1              English Strong Ale            3.0           3.0   \n",
       "2          Foreign / Export Stout            3.0           3.0   \n",
       "3                 German Pilsener            2.5           3.0   \n",
       "4  American Double / Imperial IPA            4.0           4.5   \n",
       "\n",
       "                beer_name  beer_abv  beer_beerid  \n",
       "0            Sausa Weizen       5.0        47986  \n",
       "1                Red Moon       6.2        48213  \n",
       "2  Black Horse Black Beer       6.5        48215  \n",
       "3              Sausa Pils       5.0        47969  \n",
       "4           Cauldron DIPA       7.7        64883  "
      ]
     },
     "execution_count": 44,
     "metadata": {},
     "output_type": "execute_result"
    }
   ],
   "source": [
    "dataset.head()"
   ]
  },
  {
   "cell_type": "code",
   "execution_count": 45,
   "metadata": {},
   "outputs": [
    {
     "data": {
      "text/plain": [
       "(1586614, 13)"
      ]
     },
     "execution_count": 45,
     "metadata": {},
     "output_type": "execute_result"
    }
   ],
   "source": [
    "dataset.shape"
   ]
  },
  {
   "cell_type": "code",
   "execution_count": 46,
   "metadata": {},
   "outputs": [
    {
     "data": {
      "text/plain": [
       "['brewery_id',\n",
       " 'brewery_name',\n",
       " 'review_time',\n",
       " 'review_overall',\n",
       " 'review_aroma',\n",
       " 'review_appearance',\n",
       " 'review_profilename',\n",
       " 'beer_style',\n",
       " 'review_palate',\n",
       " 'review_taste',\n",
       " 'beer_name',\n",
       " 'beer_abv',\n",
       " 'beer_beerid']"
      ]
     },
     "execution_count": 46,
     "metadata": {},
     "output_type": "execute_result"
    }
   ],
   "source": [
    "list(dataset.columns)"
   ]
  },
  {
   "cell_type": "code",
   "execution_count": 47,
   "metadata": {},
   "outputs": [
    {
     "data": {
      "text/plain": [
       "brewery_id              int64\n",
       "brewery_name           object\n",
       "review_time             int64\n",
       "review_overall        float64\n",
       "review_aroma          float64\n",
       "review_appearance     float64\n",
       "review_profilename     object\n",
       "beer_style             object\n",
       "review_palate         float64\n",
       "review_taste          float64\n",
       "beer_name              object\n",
       "beer_abv              float64\n",
       "beer_beerid             int64\n",
       "dtype: object"
      ]
     },
     "execution_count": 47,
     "metadata": {},
     "output_type": "execute_result"
    }
   ],
   "source": [
    "dataset.dtypes  # in this case no need to specify dtypes explicitly when reading .csv file"
   ]
  },
  {
   "cell_type": "code",
   "execution_count": 48,
   "metadata": {},
   "outputs": [
    {
     "data": {
      "text/plain": [
       "brewery_id                0\n",
       "brewery_name             15\n",
       "review_time               0\n",
       "review_overall            0\n",
       "review_aroma              0\n",
       "review_appearance         0\n",
       "review_profilename      348\n",
       "beer_style                0\n",
       "review_palate             0\n",
       "review_taste              0\n",
       "beer_name                 0\n",
       "beer_abv              67785\n",
       "beer_beerid               0\n",
       "dtype: int64"
      ]
     },
     "execution_count": 48,
     "metadata": {},
     "output_type": "execute_result"
    }
   ],
   "source": [
    "dataset.isna().sum()"
   ]
  },
  {
   "cell_type": "code",
   "execution_count": 49,
   "metadata": {
    "scrolled": true
   },
   "outputs": [
    {
     "data": {
      "text/plain": [
       "brewery_id            0.000000\n",
       "brewery_name          0.000009\n",
       "review_time           0.000000\n",
       "review_overall        0.000000\n",
       "review_aroma          0.000000\n",
       "review_appearance     0.000000\n",
       "review_profilename    0.000219\n",
       "beer_style            0.000000\n",
       "review_palate         0.000000\n",
       "review_taste          0.000000\n",
       "beer_name             0.000000\n",
       "beer_abv              0.042723\n",
       "beer_beerid           0.000000\n",
       "dtype: float64"
      ]
     },
     "execution_count": 49,
     "metadata": {},
     "output_type": "execute_result"
    }
   ],
   "source": [
    "dataset.isna().sum() / dataset.shape[0]"
   ]
  },
  {
   "cell_type": "markdown",
   "metadata": {},
   "source": [
    "### Aggregations"
   ]
  },
  {
   "cell_type": "markdown",
   "metadata": {},
   "source": [
    "Min / max date of review"
   ]
  },
  {
   "cell_type": "code",
   "execution_count": 60,
   "metadata": {
    "scrolled": true
   },
   "outputs": [
    {
     "name": "stdout",
     "output_type": "stream",
     "text": [
      "1996-08-22 02:00:01\n",
      "2012-01-11 13:35:48\n"
     ]
    }
   ],
   "source": [
    "review_date = dataset[\"review_time\"].apply(lambda x: datetime.fromtimestamp(x))\n",
    "\n",
    "print(review_date.min())\n",
    "print(review_date.max())  # more than November 2011... why?"
   ]
  },
  {
   "cell_type": "markdown",
   "metadata": {},
   "source": [
    "\\# of unique reviewers"
   ]
  },
  {
   "cell_type": "code",
   "execution_count": 127,
   "metadata": {},
   "outputs": [
    {
     "data": {
      "text/plain": [
       "33388"
      ]
     },
     "execution_count": 127,
     "metadata": {},
     "output_type": "execute_result"
    }
   ],
   "source": [
    "len(dataset[\"review_profilename\"].unique())"
   ]
  },
  {
   "cell_type": "markdown",
   "metadata": {},
   "source": [
    "Beer products summary"
   ]
  },
  {
   "cell_type": "code",
   "execution_count": 85,
   "metadata": {},
   "outputs": [
    {
     "name": "stdout",
     "output_type": "stream",
     "text": [
      "\n",
      "There are 5840 breweries which have in total 5743 unique brand names. \n",
      "All of them produce in total 65754 unique products which have in total 56857 different names.\n",
      "In dataset there are 104 different beer styles.\n",
      "\n"
     ]
    }
   ],
   "source": [
    "summary_string = \\\n",
    "f\"\"\"\n",
    "There are {len(dataset[\"brewery_id\"].unique())} breweries which have in total \\\n",
    "{len(dataset[\"brewery_name\"].unique())} unique brand names. \\nAll of them produce in total \\\n",
    "{dataset[[\"brewery_name\", \"beer_name\", \"beer_style\"]].drop_duplicates().shape[0]} \\\n",
    "unique products which have in total {len(dataset[\"beer_name\"].unique())} different names.\n",
    "In dataset there are {len(dataset[\"beer_style\"].unique())} different beer styles.\n",
    "\"\"\"\n",
    "\n",
    "print(summary_string)"
   ]
  },
  {
   "cell_type": "markdown",
   "metadata": {},
   "source": [
    "Review summary"
   ]
  },
  {
   "cell_type": "code",
   "execution_count": 118,
   "metadata": {
    "scrolled": false
   },
   "outputs": [
    {
     "name": "stdout",
     "output_type": "stream",
     "text": [
      "1. review_overall\n",
      "\n",
      "Top 5\n",
      "+----+----------------------------------+------------------+\n",
      "|    | beer_style                       |   review_overall |\n",
      "|----+----------------------------------+------------------|\n",
      "|  0 | American Wild Ale                |          4.09326 |\n",
      "|  1 | Gueuze                           |          4.08629 |\n",
      "|  2 | Quadrupel (Quad)                 |          4.07163 |\n",
      "|  3 | Lambic - Unblended               |          4.04892 |\n",
      "|  4 | American Double / Imperial Stout |          4.02982 |\n",
      "+----+----------------------------------+------------------+\n",
      "\n",
      "\n",
      "Last 5\n",
      "+-----+----------------------+------------------+\n",
      "|     | beer_style           |   review_overall |\n",
      "|-----+----------------------+------------------|\n",
      "|  99 | Happoshu             |          2.91494 |\n",
      "| 100 | Euro Strong Lager    |          2.86252 |\n",
      "| 101 | Light Lager          |          2.69883 |\n",
      "| 102 | American Malt Liquor |          2.67885 |\n",
      "| 103 | Low Alcohol Beer     |          2.57827 |\n",
      "+-----+----------------------+------------------+\n",
      "\n",
      "\n",
      "\n",
      "2. review_aroma\n",
      "\n",
      "Top 5\n",
      "+----+----------------------------------+----------------+\n",
      "|    | beer_style                       |   review_aroma |\n",
      "|----+----------------------------------+----------------|\n",
      "|  0 | American Double / Imperial Stout |        4.16066 |\n",
      "|  1 | Eisbock                          |        4.15678 |\n",
      "|  2 | Quadrupel (Quad)                 |        4.13253 |\n",
      "|  3 | American Wild Ale                |        4.12676 |\n",
      "|  4 | Lambic - Unblended               |        4.11804 |\n",
      "+----+----------------------------------+----------------+\n",
      "\n",
      "\n",
      "Last 5\n",
      "+-----+------------------------+----------------+\n",
      "|     | beer_style             |   review_aroma |\n",
      "|-----+------------------------+----------------|\n",
      "|  99 | Happoshu               |        2.59544 |\n",
      "| 100 | American Adjunct Lager |        2.48021 |\n",
      "| 101 | Low Alcohol Beer       |        2.46336 |\n",
      "| 102 | American Malt Liquor   |        2.41389 |\n",
      "| 103 | Light Lager            |        2.17001 |\n",
      "+-----+------------------------+----------------+\n",
      "\n",
      "\n",
      "\n",
      "3. review_appearance\n",
      "\n",
      "Top 5\n",
      "+----+----------------------------------+---------------------+\n",
      "|    | beer_style                       |   review_appearance |\n",
      "|----+----------------------------------+---------------------|\n",
      "|  0 | Russian Imperial Stout           |             4.21007 |\n",
      "|  1 | American Double / Imperial Stout |             4.16363 |\n",
      "|  2 | Quadrupel (Quad)                 |             4.11796 |\n",
      "|  3 | American Black Ale               |             4.11292 |\n",
      "|  4 | American Double / Imperial IPA   |             4.07892 |\n",
      "+----+----------------------------------+---------------------+\n",
      "\n",
      "\n",
      "Last 5\n",
      "+-----+------------------------+---------------------+\n",
      "|     | beer_style             |   review_appearance |\n",
      "|-----+------------------------+---------------------|\n",
      "|  99 | Happoshu               |             2.92531 |\n",
      "| 100 | Low Alcohol Beer       |             2.91757 |\n",
      "| 101 | American Malt Liquor   |             2.83783 |\n",
      "| 102 | American Adjunct Lager |             2.78855 |\n",
      "| 103 | Light Lager            |             2.42939 |\n",
      "+-----+------------------------+---------------------+\n",
      "\n",
      "\n",
      "\n",
      "4. review_palate\n",
      "\n",
      "Top 5\n",
      "+----+----------------------------------+-----------------+\n",
      "|    | beer_style                       |   review_palate |\n",
      "|----+----------------------------------+-----------------|\n",
      "|  0 | Quadrupel (Quad)                 |         4.12499 |\n",
      "|  1 | Eisbock                          |         4.11359 |\n",
      "|  2 | American Double / Imperial Stout |         4.09867 |\n",
      "|  3 | Russian Imperial Stout           |         4.08692 |\n",
      "|  4 | Gueuze                           |         4.04668 |\n",
      "+----+----------------------------------+-----------------+\n",
      "\n",
      "\n",
      "Last 5\n",
      "+-----+------------------------+-----------------+\n",
      "|     | beer_style             |   review_palate |\n",
      "|-----+------------------------+-----------------|\n",
      "|  99 | Happoshu               |         2.74066 |\n",
      "| 100 | American Adjunct Lager |         2.73547 |\n",
      "| 101 | American Malt Liquor   |         2.65376 |\n",
      "| 102 | Low Alcohol Beer       |         2.51915 |\n",
      "| 103 | Light Lager            |         2.33977 |\n",
      "+-----+------------------------+-----------------+\n",
      "\n",
      "\n",
      "\n",
      "5. review_taste\n",
      "\n",
      "Top 5\n",
      "+----+----------------------------------+----------------+\n",
      "|    | beer_style                       |   review_taste |\n",
      "|----+----------------------------------+----------------|\n",
      "|  0 | Eisbock                          |        4.2116  |\n",
      "|  1 | Quadrupel (Quad)                 |        4.21091 |\n",
      "|  2 | American Double / Imperial Stout |        4.18723 |\n",
      "|  3 | American Wild Ale                |        4.14994 |\n",
      "|  4 | Russian Imperial Stout           |        4.14957 |\n",
      "+----+----------------------------------+----------------+\n",
      "\n",
      "\n",
      "Last 5\n",
      "+-----+------------------------+----------------+\n",
      "|     | beer_style             |   review_taste |\n",
      "|-----+------------------------+----------------|\n",
      "|  99 | American Adjunct Lager |        2.68311 |\n",
      "| 100 | Happoshu               |        2.6556  |\n",
      "| 101 | American Malt Liquor   |        2.54115 |\n",
      "| 102 | Low Alcohol Beer       |        2.46295 |\n",
      "| 103 | Light Lager            |        2.27213 |\n",
      "+-----+------------------------+----------------+\n",
      "\n",
      "\n",
      "\n"
     ]
    }
   ],
   "source": [
    "review_cols = [\n",
    "    col for col in list(dataset.columns) if \"review\" in col and \"time\" not in col and \"profilename\" not in col\n",
    "]\n",
    "\n",
    "for i, col in enumerate(review_cols):\n",
    "    col_mean = dataset[[\"beer_style\", col]].groupby([\"beer_style\"]).agg(\"mean\").reset_index(). \\\n",
    "        sort_values(by=col, ascending=False).reset_index(drop=True)\n",
    "    print(f\"{i+1}. {col}\\n\")\n",
    "    print(\"Top 5\")\n",
    "    print(tabulate(col_mean.head(), headers='keys', tablefmt='psql'))\n",
    "    print(\"\\n\")\n",
    "    print(\"Last 5\")\n",
    "    print(tabulate(col_mean.tail(), headers='keys', tablefmt='psql'))\n",
    "    print(\"\\n\\n\")"
   ]
  },
  {
   "cell_type": "markdown",
   "metadata": {},
   "source": [
    "### Distributions"
   ]
  },
  {
   "cell_type": "markdown",
   "metadata": {},
   "source": [
    "Numeric columns"
   ]
  },
  {
   "cell_type": "code",
   "execution_count": 87,
   "metadata": {
    "scrolled": false
   },
   "outputs": [
    {
     "data": {
      "image/png": "[encoded data removed]",
      "text/plain": [
       "<Figure size 432x288 with 1 Axes>"
      ]
     },
     "metadata": {
      "needs_background": "light"
     },
     "output_type": "display_data"
    },
    {
     "data": {
      "image/png": "[encoded data removed]",
      "text/plain": [
       "<Figure size 432x288 with 1 Axes>"
      ]
     },
     "metadata": {
      "needs_background": "light"
     },
     "output_type": "display_data"
    },
    {
     "data": {
      "image/png": "[encoded data removed]",
      "text/plain": [
       "<Figure size 432x288 with 1 Axes>"
      ]
     },
     "metadata": {
      "needs_background": "light"
     },
     "output_type": "display_data"
    },
    {
     "data": {
      "image/png": "[encoded data removed]",
      "text/plain": [
       "<Figure size 432x288 with 1 Axes>"
      ]
     },
     "metadata": {
      "needs_background": "light"
     },
     "output_type": "display_data"
    },
    {
     "data": {
      "image/png": "[encoded data removed]",
      "text/plain": [
       "<Figure size 432x288 with 1 Axes>"
      ]
     },
     "metadata": {
      "needs_background": "light"
     },
     "output_type": "display_data"
    },
    {
     "data": {
      "image/png": "[encoded data removed]",
      "text/plain": [
       "<Figure size 432x288 with 1 Axes>"
      ]
     },
     "metadata": {
      "needs_background": "light"
     },
     "output_type": "display_data"
    },
    {
     "data": {
      "image/png": "[encoded data removed]",
      "text/plain": [
       "<Figure size 432x288 with 1 Axes>"
      ]
     },
     "metadata": {
      "needs_background": "light"
     },
     "output_type": "display_data"
    }
   ],
   "source": [
    "for col in dataset.columns:\n",
    "    if bool(re.search(r\"int|float\", str(dataset[col].dtype))) and \"id\" not in col:\n",
    "        if col == \"review_time\":\n",
    "            review_date.hist()  # more readable IMO\n",
    "        else:\n",
    "            dataset[col].hist()\n",
    "        plt.suptitle(col)\n",
    "        plt.show()"
   ]
  },
  {
   "cell_type": "markdown",
   "metadata": {},
   "source": [
    "\\# of reviews per profile"
   ]
  },
  {
   "cell_type": "code",
   "execution_count": 140,
   "metadata": {},
   "outputs": [
    {
     "data": {
      "image/png": "[encoded data removed]",
      "text/plain": [
       "<Figure size 432x288 with 1 Axes>"
      ]
     },
     "metadata": {
      "needs_background": "light"
     },
     "output_type": "display_data"
    }
   ],
   "source": [
    "dataset[\"review_profilename\"].value_counts().hist()\n",
    "plt.show()"
   ]
  },
  {
   "cell_type": "code",
   "execution_count": 139,
   "metadata": {},
   "outputs": [
    {
     "data": {
      "text/plain": [
       "count    33387.000000\n",
       "mean        47.511487\n",
       "std        182.599759\n",
       "min          1.000000\n",
       "25%          1.000000\n",
       "50%          3.000000\n",
       "75%         16.000000\n",
       "max       5817.000000\n",
       "Name: review_profilename, dtype: float64"
      ]
     },
     "execution_count": 139,
     "metadata": {},
     "output_type": "execute_result"
    }
   ],
   "source": [
    "dataset[\"review_profilename\"].value_counts().describe()"
   ]
  },
  {
   "cell_type": "markdown",
   "metadata": {},
   "source": [
    "### Correlation / covariance matrices"
   ]
  },
  {
   "cell_type": "code",
   "execution_count": 124,
   "metadata": {},
   "outputs": [
    {
     "data": {
      "text/html": [
       "<div>\n",
       "<style scoped>\n",
       "    .dataframe tbody tr th:only-of-type {\n",
       "        vertical-align: middle;\n",
       "    }\n",
       "\n",
       "    .dataframe tbody tr th {\n",
       "        vertical-align: top;\n",
       "    }\n",
       "\n",
       "    .dataframe thead th {\n",
       "        text-align: right;\n",
       "    }\n",
       "</style>\n",
       "<table border=\"1\" class=\"dataframe\">\n",
       "  <thead>\n",
       "    <tr style=\"text-align: right;\">\n",
       "      <th></th>\n",
       "      <th>review_overall</th>\n",
       "      <th>review_aroma</th>\n",
       "      <th>review_appearance</th>\n",
       "      <th>review_palate</th>\n",
       "      <th>review_taste</th>\n",
       "    </tr>\n",
       "  </thead>\n",
       "  <tbody>\n",
       "    <tr>\n",
       "      <th>review_overall</th>\n",
       "      <td>1.000000</td>\n",
       "      <td>0.616013</td>\n",
       "      <td>0.501732</td>\n",
       "      <td>0.701914</td>\n",
       "      <td>0.789816</td>\n",
       "    </tr>\n",
       "    <tr>\n",
       "      <th>review_aroma</th>\n",
       "      <td>0.616013</td>\n",
       "      <td>1.000000</td>\n",
       "      <td>0.561029</td>\n",
       "      <td>0.616947</td>\n",
       "      <td>0.716776</td>\n",
       "    </tr>\n",
       "    <tr>\n",
       "      <th>review_appearance</th>\n",
       "      <td>0.501732</td>\n",
       "      <td>0.561029</td>\n",
       "      <td>1.000000</td>\n",
       "      <td>0.566634</td>\n",
       "      <td>0.546980</td>\n",
       "    </tr>\n",
       "    <tr>\n",
       "      <th>review_palate</th>\n",
       "      <td>0.701914</td>\n",
       "      <td>0.616947</td>\n",
       "      <td>0.566634</td>\n",
       "      <td>1.000000</td>\n",
       "      <td>0.734135</td>\n",
       "    </tr>\n",
       "    <tr>\n",
       "      <th>review_taste</th>\n",
       "      <td>0.789816</td>\n",
       "      <td>0.716776</td>\n",
       "      <td>0.546980</td>\n",
       "      <td>0.734135</td>\n",
       "      <td>1.000000</td>\n",
       "    </tr>\n",
       "  </tbody>\n",
       "</table>\n",
       "</div>"
      ],
      "text/plain": [
       "                   review_overall  review_aroma  review_appearance  \\\n",
       "review_overall           1.000000      0.616013           0.501732   \n",
       "review_aroma             0.616013      1.000000           0.561029   \n",
       "review_appearance        0.501732      0.561029           1.000000   \n",
       "review_palate            0.701914      0.616947           0.566634   \n",
       "review_taste             0.789816      0.716776           0.546980   \n",
       "\n",
       "                   review_palate  review_taste  \n",
       "review_overall          0.701914      0.789816  \n",
       "review_aroma            0.616947      0.716776  \n",
       "review_appearance       0.566634      0.546980  \n",
       "review_palate           1.000000      0.734135  \n",
       "review_taste            0.734135      1.000000  "
      ]
     },
     "execution_count": 124,
     "metadata": {},
     "output_type": "execute_result"
    }
   ],
   "source": [
    "dataset[review_cols].corr()\n",
    "\n",
    "# conclusions: \n",
    "# taste of beer may have the biggest impact on review overall, which is also intuitive\n",
    "# inverse situation with appearance of beer"
   ]
  },
  {
   "cell_type": "code",
   "execution_count": 122,
   "metadata": {},
   "outputs": [
    {
     "data": {
      "text/html": [
       "<div>\n",
       "<style scoped>\n",
       "    .dataframe tbody tr th:only-of-type {\n",
       "        vertical-align: middle;\n",
       "    }\n",
       "\n",
       "    .dataframe tbody tr th {\n",
       "        vertical-align: top;\n",
       "    }\n",
       "\n",
       "    .dataframe thead th {\n",
       "        text-align: right;\n",
       "    }\n",
       "</style>\n",
       "<table border=\"1\" class=\"dataframe\">\n",
       "  <thead>\n",
       "    <tr style=\"text-align: right;\">\n",
       "      <th></th>\n",
       "      <th>review_overall</th>\n",
       "      <th>review_aroma</th>\n",
       "      <th>review_appearance</th>\n",
       "      <th>review_palate</th>\n",
       "      <th>review_taste</th>\n",
       "    </tr>\n",
       "  </thead>\n",
       "  <tbody>\n",
       "    <tr>\n",
       "      <th>review_overall</th>\n",
       "      <td>0.519296</td>\n",
       "      <td>0.309681</td>\n",
       "      <td>0.222754</td>\n",
       "      <td>0.345076</td>\n",
       "      <td>0.416607</td>\n",
       "    </tr>\n",
       "    <tr>\n",
       "      <th>review_aroma</th>\n",
       "      <td>0.309681</td>\n",
       "      <td>0.486669</td>\n",
       "      <td>0.241128</td>\n",
       "      <td>0.293622</td>\n",
       "      <td>0.366010</td>\n",
       "    </tr>\n",
       "    <tr>\n",
       "      <th>review_appearance</th>\n",
       "      <td>0.222754</td>\n",
       "      <td>0.241128</td>\n",
       "      <td>0.379570</td>\n",
       "      <td>0.238162</td>\n",
       "      <td>0.246667</td>\n",
       "    </tr>\n",
       "    <tr>\n",
       "      <th>review_palate</th>\n",
       "      <td>0.345076</td>\n",
       "      <td>0.293622</td>\n",
       "      <td>0.238162</td>\n",
       "      <td>0.465422</td>\n",
       "      <td>0.366600</td>\n",
       "    </tr>\n",
       "    <tr>\n",
       "      <th>review_taste</th>\n",
       "      <td>0.416607</td>\n",
       "      <td>0.366010</td>\n",
       "      <td>0.246667</td>\n",
       "      <td>0.366600</td>\n",
       "      <td>0.535780</td>\n",
       "    </tr>\n",
       "  </tbody>\n",
       "</table>\n",
       "</div>"
      ],
      "text/plain": [
       "                   review_overall  review_aroma  review_appearance  \\\n",
       "review_overall           0.519296      0.309681           0.222754   \n",
       "review_aroma             0.309681      0.486669           0.241128   \n",
       "review_appearance        0.222754      0.241128           0.379570   \n",
       "review_palate            0.345076      0.293622           0.238162   \n",
       "review_taste             0.416607      0.366010           0.246667   \n",
       "\n",
       "                   review_palate  review_taste  \n",
       "review_overall          0.345076      0.416607  \n",
       "review_aroma            0.293622      0.366010  \n",
       "review_appearance       0.238162      0.246667  \n",
       "review_palate           0.465422      0.366600  \n",
       "review_taste            0.366600      0.535780  "
      ]
     },
     "execution_count": 122,
     "metadata": {},
     "output_type": "execute_result"
    }
   ],
   "source": [
    "dataset[review_cols].cov()"
   ]
  },
  {
   "cell_type": "code",
   "execution_count": null,
   "metadata": {},
   "outputs": [],
   "source": []
  }
 ],
 "metadata": {
  "kernelspec": {
   "display_name": "Python 3",
   "language": "python",
   "name": "python3"
  },
  "language_info": {
   "codemirror_mode": {
    "name": "ipython",
    "version": 3
   },
   "file_extension": ".py",
   "mimetype": "text/x-python",
   "name": "python",
   "nbconvert_exporter": "python",
   "pygments_lexer": "ipython3",
   "version": "3.9.2"
  }
 },
 "nbformat": 4,
 "nbformat_minor": 4
}
